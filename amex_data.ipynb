{
 "cells": [
  {
   "cell_type": "code",
   "execution_count": 3,
   "metadata": {},
   "outputs": [
    {
     "name": "stderr",
     "output_type": "stream",
     "text": [
      "C:\\Program Files\\Anaconda3\\lib\\site-packages\\IPython\\core\\interactiveshell.py:2717: DtypeWarning: Columns (19) have mixed types. Specify dtype option on import or set low_memory=False.\n",
      "  interactivity=interactivity, compiler=compiler, result=result)\n"
     ]
    },
    {
     "data": {
      "text/html": [
       "<div>\n",
       "<style>\n",
       "    .dataframe thead tr:only-child th {\n",
       "        text-align: right;\n",
       "    }\n",
       "\n",
       "    .dataframe thead th {\n",
       "        text-align: left;\n",
       "    }\n",
       "\n",
       "    .dataframe tbody tr th {\n",
       "        vertical-align: top;\n",
       "    }\n",
       "</style>\n",
       "<table border=\"1\" class=\"dataframe\">\n",
       "  <thead>\n",
       "    <tr style=\"text-align: right;\">\n",
       "      <th></th>\n",
       "      <th>application_key</th>\n",
       "      <th>mvar1</th>\n",
       "      <th>mvar2</th>\n",
       "      <th>mvar3</th>\n",
       "      <th>mvar4</th>\n",
       "      <th>mvar5</th>\n",
       "      <th>mvar6</th>\n",
       "      <th>mvar7</th>\n",
       "      <th>mvar8</th>\n",
       "      <th>mvar9</th>\n",
       "      <th>...</th>\n",
       "      <th>mvar39</th>\n",
       "      <th>mvar40</th>\n",
       "      <th>mvar41</th>\n",
       "      <th>mvar42</th>\n",
       "      <th>mvar43</th>\n",
       "      <th>mvar44</th>\n",
       "      <th>mvar45</th>\n",
       "      <th>mvar46</th>\n",
       "      <th>mvar47</th>\n",
       "      <th>default_ind</th>\n",
       "    </tr>\n",
       "  </thead>\n",
       "  <tbody>\n",
       "    <tr>\n",
       "      <th>0</th>\n",
       "      <td>230032</td>\n",
       "      <td>1696</td>\n",
       "      <td>1.6541</td>\n",
       "      <td>0.000</td>\n",
       "      <td>0.0</td>\n",
       "      <td>0.0</td>\n",
       "      <td>0</td>\n",
       "      <td>6015</td>\n",
       "      <td>322</td>\n",
       "      <td>40369</td>\n",
       "      <td>...</td>\n",
       "      <td>1</td>\n",
       "      <td>73.78</td>\n",
       "      <td>82.547</td>\n",
       "      <td>0.08696</td>\n",
       "      <td>10</td>\n",
       "      <td>0.63899</td>\n",
       "      <td>na</td>\n",
       "      <td>0</td>\n",
       "      <td>C</td>\n",
       "      <td>0</td>\n",
       "    </tr>\n",
       "    <tr>\n",
       "      <th>1</th>\n",
       "      <td>230033</td>\n",
       "      <td>1846</td>\n",
       "      <td>0.8095</td>\n",
       "      <td>0.000</td>\n",
       "      <td>0.0</td>\n",
       "      <td>0.0</td>\n",
       "      <td>102</td>\n",
       "      <td>7532</td>\n",
       "      <td>3171</td>\n",
       "      <td>18234</td>\n",
       "      <td>...</td>\n",
       "      <td>0</td>\n",
       "      <td>99.129</td>\n",
       "      <td>missing</td>\n",
       "      <td>0</td>\n",
       "      <td>13</td>\n",
       "      <td>0.63836</td>\n",
       "      <td>na</td>\n",
       "      <td>na</td>\n",
       "      <td>L</td>\n",
       "      <td>1</td>\n",
       "    </tr>\n",
       "    <tr>\n",
       "      <th>2</th>\n",
       "      <td>230034</td>\n",
       "      <td>1745</td>\n",
       "      <td>0.4001</td>\n",
       "      <td>0.000</td>\n",
       "      <td>0.0</td>\n",
       "      <td>0.0</td>\n",
       "      <td>missing</td>\n",
       "      <td>2536</td>\n",
       "      <td>missing</td>\n",
       "      <td>missing</td>\n",
       "      <td>...</td>\n",
       "      <td>0</td>\n",
       "      <td>missing</td>\n",
       "      <td>29.29</td>\n",
       "      <td>0</td>\n",
       "      <td>1</td>\n",
       "      <td>1.00000</td>\n",
       "      <td>na</td>\n",
       "      <td>0</td>\n",
       "      <td>C</td>\n",
       "      <td>1</td>\n",
       "    </tr>\n",
       "    <tr>\n",
       "      <th>3</th>\n",
       "      <td>230035</td>\n",
       "      <td>1739</td>\n",
       "      <td>0.2193</td>\n",
       "      <td>0.000</td>\n",
       "      <td>0.0</td>\n",
       "      <td>0.0</td>\n",
       "      <td>1982</td>\n",
       "      <td>26440</td>\n",
       "      <td>4955</td>\n",
       "      <td>20316</td>\n",
       "      <td>...</td>\n",
       "      <td>0</td>\n",
       "      <td>96.272</td>\n",
       "      <td>missing</td>\n",
       "      <td>0.15385</td>\n",
       "      <td>3</td>\n",
       "      <td>0.53241</td>\n",
       "      <td>0</td>\n",
       "      <td>0</td>\n",
       "      <td>L</td>\n",
       "      <td>0</td>\n",
       "    </tr>\n",
       "    <tr>\n",
       "      <th>4</th>\n",
       "      <td>230036</td>\n",
       "      <td>1787</td>\n",
       "      <td>0.0118</td>\n",
       "      <td>0.225</td>\n",
       "      <td>0.0</td>\n",
       "      <td>0.0</td>\n",
       "      <td>5451</td>\n",
       "      <td>5494</td>\n",
       "      <td>5494</td>\n",
       "      <td>7987</td>\n",
       "      <td>...</td>\n",
       "      <td>0</td>\n",
       "      <td>115.019</td>\n",
       "      <td>missing</td>\n",
       "      <td>0</td>\n",
       "      <td>1</td>\n",
       "      <td>0.92665</td>\n",
       "      <td>na</td>\n",
       "      <td>na</td>\n",
       "      <td>L</td>\n",
       "      <td>0</td>\n",
       "    </tr>\n",
       "  </tbody>\n",
       "</table>\n",
       "<p>5 rows × 49 columns</p>\n",
       "</div>"
      ],
      "text/plain": [
       "   application_key mvar1   mvar2  mvar3  mvar4  mvar5    mvar6  mvar7  \\\n",
       "0           230032  1696  1.6541  0.000    0.0    0.0        0   6015   \n",
       "1           230033  1846  0.8095  0.000    0.0    0.0      102   7532   \n",
       "2           230034  1745  0.4001  0.000    0.0    0.0  missing   2536   \n",
       "3           230035  1739  0.2193  0.000    0.0    0.0     1982  26440   \n",
       "4           230036  1787  0.0118  0.225    0.0    0.0     5451   5494   \n",
       "\n",
       "     mvar8    mvar9     ...     mvar39   mvar40   mvar41   mvar42  mvar43  \\\n",
       "0      322    40369     ...          1    73.78   82.547  0.08696      10   \n",
       "1     3171    18234     ...          0   99.129  missing        0      13   \n",
       "2  missing  missing     ...          0  missing    29.29        0       1   \n",
       "3     4955    20316     ...          0   96.272  missing  0.15385       3   \n",
       "4     5494     7987     ...          0  115.019  missing        0       1   \n",
       "\n",
       "    mvar44 mvar45 mvar46 mvar47 default_ind  \n",
       "0  0.63899     na      0      C           0  \n",
       "1  0.63836     na     na      L           1  \n",
       "2  1.00000     na      0      C           1  \n",
       "3  0.53241      0      0      L           0  \n",
       "4  0.92665     na     na      L           0  \n",
       "\n",
       "[5 rows x 49 columns]"
      ]
     },
     "execution_count": 3,
     "metadata": {},
     "output_type": "execute_result"
    }
   ],
   "source": [
    "import os\n",
    "import pandas as pd\n",
    "os.chdir(r'C:\\Users\\prana\\Desktop')\n",
    "df = pd.read_csv(r'C:\\Users\\prana\\Desktop\\Amex analyze this dataset\\Training_dataset_Original.csv')\n",
    "df.head()"
   ]
  },
  {
   "cell_type": "code",
   "execution_count": null,
   "metadata": {},
   "outputs": [],
   "source": [
    "df.tail()"
   ]
  },
  {
   "cell_type": "code",
   "execution_count": null,
   "metadata": {
    "scrolled": true
   },
   "outputs": [],
   "source": [
    "df.isnull().sum()"
   ]
  },
  {
   "cell_type": "code",
   "execution_count": null,
   "metadata": {
    "collapsed": true
   },
   "outputs": [],
   "source": [
    "df_edit = df #df edit has no null values"
   ]
  },
  {
   "cell_type": "code",
   "execution_count": null,
   "metadata": {},
   "outputs": [],
   "source": [
    "df_edit.dropna(inplace=True)\n",
    "df_edit.shape[0]\n"
   ]
  },
  {
   "cell_type": "code",
   "execution_count": null,
   "metadata": {
    "collapsed": true
   },
   "outputs": [],
   "source": [
    "X_train1 = df_edit[['mvar1','mvar6','mvar14','mvar15','mvar42','mvar39','mvar45','mvar46']]"
   ]
  },
  {
   "cell_type": "code",
   "execution_count": null,
   "metadata": {},
   "outputs": [],
   "source": [
    "X_train1.head()"
   ]
  },
  {
   "cell_type": "code",
   "execution_count": 5,
   "metadata": {},
   "outputs": [
    {
     "data": {
      "text/plain": [
       "pandas.core.frame.DataFrame"
      ]
     },
     "execution_count": 5,
     "metadata": {},
     "output_type": "execute_result"
    }
   ],
   "source": [
    "X_train2 = df[['mvar1','mvar6','mvar14','mvar15','mvar42','mvar39','mvar45','mvar46']]\n",
    "X_train2.head()\n",
    "type(X_train2)"
   ]
  },
  {
   "cell_type": "code",
   "execution_count": null,
   "metadata": {},
   "outputs": [],
   "source": [
    "df2 = pd.read_csv(r'C:\\Users\\prana\\Desktop\\Amex analyze this dataset\\TdO_edit.csv')\n",
    "df2.shape[0]"
   ]
  },
  {
   "cell_type": "code",
   "execution_count": null,
   "metadata": {},
   "outputs": [],
   "source": [
    "df2.head()"
   ]
  },
  {
   "cell_type": "code",
   "execution_count": null,
   "metadata": {
    "scrolled": true
   },
   "outputs": [],
   "source": [
    "df2.isnull().sum()"
   ]
  },
  {
   "cell_type": "code",
   "execution_count": null,
   "metadata": {},
   "outputs": [],
   "source": [
    "df2[['mvar14','default_ind']].head()"
   ]
  },
  {
   "cell_type": "code",
   "execution_count": null,
   "metadata": {},
   "outputs": [],
   "source": [
    "df2[['mvar14','default_ind']].tail()"
   ]
  },
  {
   "cell_type": "code",
   "execution_count": null,
   "metadata": {},
   "outputs": [],
   "source": [
    "#X_train2 = df2['mvar14']\n",
    "#Y_train2 = df2['default_ind']\n",
    "from sklearn.cross_validation import train_test_split\n",
    "from sklearn.linear_model import LogisticRegressionCV\n",
    "from sklearn.linear_model import SGDClassifier\n",
    "from sklearn.metrics import accuracy_score\n",
    "from sklearn.preprocessing import Imputer\n",
    "from sklearn.preprocessing import StandardScaler\n",
    "from sklearn.ensemble import RandomForestClassifier\n",
    "import numpy as np\n",
    "scaler = StandardScaler()\n",
    "Xtrain, Xtest, ytrain, ytest = train_test_split(df2[['mvar14','mvar3','mvar4','mvar5','mvar10','mvar20']],df2[['default_ind']])\n",
    "imp = Imputer(strategy='most_frequent')\n",
    "Xtrain_m = imp.fit_transform(Xtrain)\n",
    "Xtest_m = imp.fit_transform(Xtest)\n",
    "scaler.fit(Xtrain_m)\n",
    "scaler.fit(Xtest_m)\n",
    "Xtrain_s = scaler.transform(Xtrain_m)\n",
    "Xtest_s = scaler.transform(Xtest_m)\n",
    "n_train = Xtrain.shape[0]\n",
    "itera = np.ceil(10**6/n_train)\n",
    "#Xtrain.values.reshape(1,-1)\n",
    "#ytrain.values.reshape(1,-1)\n",
    "#clf = LogisticRegressionCV(cv=5, random_state=0).fit(Xtrain_m, ytrain)\n",
    "#clf =  SGDClassifier(loss='hinge',max_iter = itera).fit(Xtrain_s, ytrain)\n",
    "#for i in range(1,25):\n",
    "    #clf = RandomForestClassifier(n_estimators=100, random_state=0).fit(Xtrain_m, ytrain)\n",
    "ypred = clf.predict(Xtest_m)\n",
    "accuracy_score(ytest, ypred)"
   ]
  },
  {
   "cell_type": "code",
   "execution_count": null,
   "metadata": {
    "collapsed": true
   },
   "outputs": [],
   "source": [
    "from sklearn.naive_bayes import GaussianNB\n",
    "modelP = GaussianNB().fit(Xtrain, ytrain)\n",
    "ypred = modelP.predict(Xtest)\n",
    "accuracy_score(ytest,ypred)"
   ]
  },
  {
   "cell_type": "code",
   "execution_count": null,
   "metadata": {
    "collapsed": true
   },
   "outputs": [],
   "source": [
    "Xtrain.shape[0]"
   ]
  },
  {
   "cell_type": "code",
   "execution_count": null,
   "metadata": {
    "collapsed": true
   },
   "outputs": [],
   "source": [
    "ytest.shape[0]"
   ]
  },
  {
   "cell_type": "code",
   "execution_count": null,
   "metadata": {},
   "outputs": [],
   "source": [
    "X_train = df2[['mvar14','mvar3','mvar4','mvar5','mvar10','mvar20']]\n",
    "y_train = df2['default_ind']\n",
    "dftest = pd.read_csv(r'C:\\Users\\prana\\Desktop\\Amex analyze this dataset\\Leaderboard_dataset.csv')\n",
    "X_test = dftest[['mvar14','mvar3','mvar4','mvar5']]\n",
    "n_test = X_train.shape[0]\n",
    "imp = Imputer(strategy='most_frequent')\n",
    "X_train_m = imp.fit_transform(X_train)\n",
    "X_test_m = imp.fit_transform(X_test)\n",
    "itert = np.ceil(10**6/n_test)\n",
    "scaler = StandardScaler()\n",
    "scaler.fit(X_train_m)\n",
    "scaler.fit(X_test_m)\n",
    "X_train_s = scaler.transform(X_train_m)\n",
    "X_test_s = scaler.transform(X_test_m)\n",
    "#modelP = GaussianNB().fit(X_train_m, y_train)\n",
    "#modelP = LogisticRegressionCV(cv=5, random_state=0).fit(X_train_m, y_train)\n",
    "for i in range(1,25):\n",
    "    modelP =  SGDClassifier(loss='hinge',max_iter = itert).fit(X_train_s, ytrain)\n",
    "y_pred = modelP.predict(X_test_s)\n",
    "np.savetxt(r'C:\\Users\\prana\\Desktop\\Amex analyze this dataset\\value.csv',y_pred,delimiter=',')"
   ]
  },
  {
   "cell_type": "code",
   "execution_count": null,
   "metadata": {
    "collapsed": true
   },
   "outputs": [],
   "source": [
    "df3 = df2\n",
    "df3.dropna()\n",
    "df3.shape[0]"
   ]
  },
  {
   "cell_type": "code",
   "execution_count": null,
   "metadata": {
    "collapsed": true
   },
   "outputs": [],
   "source": [
    "df3.head()"
   ]
  },
  {
   "cell_type": "code",
   "execution_count": null,
   "metadata": {
    "collapsed": true
   },
   "outputs": [],
   "source": [
    "df3.isnull().sum()"
   ]
  },
  {
   "cell_type": "code",
   "execution_count": null,
   "metadata": {
    "collapsed": true
   },
   "outputs": [],
   "source": [
    "df3.dropna(inplace = True)\n",
    "df3.isnull().sum()"
   ]
  },
  {
   "cell_type": "code",
   "execution_count": null,
   "metadata": {
    "collapsed": true
   },
   "outputs": [],
   "source": [
    "df3.shape[0]"
   ]
  },
  {
   "cell_type": "code",
   "execution_count": null,
   "metadata": {
    "collapsed": true
   },
   "outputs": [],
   "source": []
  }
 ],
 "metadata": {
  "kernelspec": {
   "display_name": "Python 3",
   "language": "python",
   "name": "python3"
  }
 },
 "nbformat": 4,
 "nbformat_minor": 2
}
